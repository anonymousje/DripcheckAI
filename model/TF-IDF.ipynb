{
 "cells": [
  {
   "cell_type": "code",
   "execution_count": 1,
   "id": "fda59d02-cce6-4066-8fb1-588520bc4499",
   "metadata": {},
   "outputs": [],
   "source": [
    "import numpy as np\n",
    "import pandas as pd"
   ]
  },
  {
   "cell_type": "code",
   "execution_count": 2,
   "id": "cf6c9caa-f9e6-450b-9cf5-2a64b4cacc48",
   "metadata": {},
   "outputs": [],
   "source": [
    "fashion = pd.read_csv('processed_dataset.csv')\n"
   ]
  },
  {
   "cell_type": "code",
   "execution_count": 3,
   "id": "5d31cd6d-4405-4da6-b49a-40e1a45a8d2c",
   "metadata": {},
   "outputs": [],
   "source": [
    "fashion = fashion[['id','gender','masterCategory','subCategory','articleType','usage','productDisplayName', 'image_url']]"
   ]
  },
  {
   "cell_type": "code",
   "execution_count": 4,
   "id": "0b355c17-40bc-43b0-893b-cb792cede7a5",
   "metadata": {},
   "outputs": [],
   "source": [
    "fashion['tags'] = fashion['gender'] + \" \" + fashion['masterCategory'] + \" \" + fashion['subCategory'] + \" \" + fashion['articleType'] + \" \" + fashion['usage']"
   ]
  },
  {
   "cell_type": "code",
   "execution_count": 5,
   "id": "07f2a0fb-5b5a-4feb-9ca4-5342a18e3a54",
   "metadata": {},
   "outputs": [],
   "source": [
    "new_df = fashion[['id','productDisplayName','image_url', 'tags']]"
   ]
  },
  {
   "cell_type": "code",
   "execution_count": 6,
   "id": "d787d64c-d598-4942-8bd5-438a673d1ce5",
   "metadata": {},
   "outputs": [
    {
     "name": "stderr",
     "output_type": "stream",
     "text": [
      "/tmp/ipykernel_696975/3214958533.py:1: SettingWithCopyWarning: \n",
      "A value is trying to be set on a copy of a slice from a DataFrame.\n",
      "Try using .loc[row_indexer,col_indexer] = value instead\n",
      "\n",
      "See the caveats in the documentation: https://pandas.pydata.org/pandas-docs/stable/user_guide/indexing.html#returning-a-view-versus-a-copy\n",
      "  new_df['tags'] = new_df['tags'].apply(lambda x:x.lower())\n"
     ]
    }
   ],
   "source": [
    "new_df['tags'] = new_df['tags'].apply(lambda x:x.lower())"
   ]
  },
  {
   "cell_type": "code",
   "execution_count": 7,
   "id": "c36ac483-9afb-4c9c-9078-9aa49d0b5c76",
   "metadata": {},
   "outputs": [],
   "source": [
    "from sklearn.feature_extraction.text import TfidfVectorizer\n",
    "tfidf = TfidfVectorizer(stop_words=\"english\")\n",
    "vector2 = tfidf.fit_transform(new_df['tags'])"
   ]
  },
  {
   "cell_type": "code",
   "execution_count": 8,
   "id": "74791358-33d8-456c-9370-86f3b333becb",
   "metadata": {},
   "outputs": [],
   "source": [
    "from sklearn.metrics.pairwise import linear_kernel\n",
    "sim = linear_kernel(vector2,vector2)"
   ]
  },
  {
   "cell_type": "code",
   "execution_count": 9,
   "id": "f2c73af4-c788-4f69-9890-3f9b0fe2ebd7",
   "metadata": {},
   "outputs": [],
   "source": [
    "ind = pd.Series(new_df.index, index = new_df['id'])"
   ]
  },
  {
   "cell_type": "code",
   "execution_count": 15,
   "id": "7d144207-4592-4ea0-8dce-705ae17d5417",
   "metadata": {},
   "outputs": [
    {
     "name": "stderr",
     "output_type": "stream",
     "text": [
      "/tmp/ipykernel_696975/1255209264.py:1: FutureWarning: Series.__getitem__ treating keys as positions is deprecated. In a future version, integer keys will always be treated as labels (consistent with DataFrame behavior). To access a value by position, use `ser.iloc[pos]`\n",
      "  ind[39386]\n"
     ]
    },
    {
     "ename": "IndexError",
     "evalue": "index 39386 is out of bounds for axis 0 with size 3180",
     "output_type": "error",
     "traceback": [
      "\u001b[0;31m---------------------------------------------------------------------------\u001b[0m",
      "\u001b[0;31mIndexError\u001b[0m                                Traceback (most recent call last)",
      "Cell \u001b[0;32mIn[15], line 1\u001b[0m\n\u001b[0;32m----> 1\u001b[0m \u001b[43mind\u001b[49m\u001b[43m[\u001b[49m\u001b[38;5;241;43m39386\u001b[39;49m\u001b[43m]\u001b[49m\n",
      "File \u001b[0;32m/usr/lib/python3/dist-packages/pandas/core/series.py:1037\u001b[0m, in \u001b[0;36mSeries.__getitem__\u001b[0;34m(self, key)\u001b[0m\n\u001b[1;32m   1027\u001b[0m \u001b[38;5;28;01mif\u001b[39;00m is_integer(key) \u001b[38;5;129;01mand\u001b[39;00m \u001b[38;5;28mself\u001b[39m\u001b[38;5;241m.\u001b[39mindex\u001b[38;5;241m.\u001b[39m_should_fallback_to_positional:\n\u001b[1;32m   1028\u001b[0m     warnings\u001b[38;5;241m.\u001b[39mwarn(\n\u001b[1;32m   1029\u001b[0m         \u001b[38;5;66;03m# GH#50617\u001b[39;00m\n\u001b[1;32m   1030\u001b[0m         \u001b[38;5;124m\"\u001b[39m\u001b[38;5;124mSeries.__getitem__ treating keys as positions is deprecated. \u001b[39m\u001b[38;5;124m\"\u001b[39m\n\u001b[0;32m   (...)\u001b[0m\n\u001b[1;32m   1035\u001b[0m         stacklevel\u001b[38;5;241m=\u001b[39mfind_stack_level(),\n\u001b[1;32m   1036\u001b[0m     )\n\u001b[0;32m-> 1037\u001b[0m     \u001b[38;5;28;01mreturn\u001b[39;00m \u001b[38;5;28;43mself\u001b[39;49m\u001b[38;5;241;43m.\u001b[39;49m\u001b[43m_values\u001b[49m\u001b[43m[\u001b[49m\u001b[43mkey\u001b[49m\u001b[43m]\u001b[49m\n\u001b[1;32m   1039\u001b[0m \u001b[38;5;28;01melif\u001b[39;00m key_is_scalar:\n\u001b[1;32m   1040\u001b[0m     \u001b[38;5;28;01mreturn\u001b[39;00m \u001b[38;5;28mself\u001b[39m\u001b[38;5;241m.\u001b[39m_get_value(key)\n",
      "\u001b[0;31mIndexError\u001b[0m: index 39386 is out of bounds for axis 0 with size 3180"
     ]
    }
   ],
   "source": [
    "ind[39386]"
   ]
  },
  {
   "cell_type": "code",
   "execution_count": null,
   "id": "77a09dfe-e1e4-44c3-af42-b797cb1ae34e",
   "metadata": {},
   "outputs": [],
   "source": []
  }
 ],
 "metadata": {
  "kernelspec": {
   "display_name": "Python 3 (ipykernel)",
   "language": "python",
   "name": "python3"
  },
  "language_info": {
   "codemirror_mode": {
    "name": "ipython",
    "version": 3
   },
   "file_extension": ".py",
   "mimetype": "text/x-python",
   "name": "python",
   "nbconvert_exporter": "python",
   "pygments_lexer": "ipython3",
   "version": "3.11.8"
  }
 },
 "nbformat": 4,
 "nbformat_minor": 5
}
