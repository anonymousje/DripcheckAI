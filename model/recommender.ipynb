{
 "cells": [
  {
   "cell_type": "code",
   "execution_count": 3,
   "id": "3952c9e0-651e-4315-b068-1b6ff4d0662f",
   "metadata": {},
   "outputs": [],
   "source": [
    "import numpy as np\n",
    "import pandas as pd"
   ]
  },
  {
   "cell_type": "code",
   "execution_count": 4,
   "id": "9769a06e-0816-4730-80fb-51a56f9afef3",
   "metadata": {},
   "outputs": [],
   "source": [
    "fashion = pd.read_csv('processed_dataset.csv')"
   ]
  },
  {
   "cell_type": "code",
   "execution_count": 5,
   "id": "cf9b4d83-8372-424f-8e44-18a7eb699d5a",
   "metadata": {},
   "outputs": [
    {
     "data": {
      "text/html": [
       "<div>\n",
       "<style scoped>\n",
       "    .dataframe tbody tr th:only-of-type {\n",
       "        vertical-align: middle;\n",
       "    }\n",
       "\n",
       "    .dataframe tbody tr th {\n",
       "        vertical-align: top;\n",
       "    }\n",
       "\n",
       "    .dataframe thead th {\n",
       "        text-align: right;\n",
       "    }\n",
       "</style>\n",
       "<table border=\"1\" class=\"dataframe\">\n",
       "  <thead>\n",
       "    <tr style=\"text-align: right;\">\n",
       "      <th></th>\n",
       "      <th>id</th>\n",
       "      <th>gender</th>\n",
       "      <th>masterCategory</th>\n",
       "      <th>subCategory</th>\n",
       "      <th>articleType</th>\n",
       "      <th>baseColour</th>\n",
       "      <th>season</th>\n",
       "      <th>year</th>\n",
       "      <th>usage</th>\n",
       "      <th>productDisplayName</th>\n",
       "      <th>brandname</th>\n",
       "      <th>image_filename</th>\n",
       "      <th>image_url</th>\n",
       "      <th>price</th>\n",
       "    </tr>\n",
       "  </thead>\n",
       "  <tbody>\n",
       "    <tr>\n",
       "      <th>0</th>\n",
       "      <td>15970</td>\n",
       "      <td>Men</td>\n",
       "      <td>Apparel</td>\n",
       "      <td>Topwear</td>\n",
       "      <td>Shirts</td>\n",
       "      <td>Navy Blue</td>\n",
       "      <td>Fall</td>\n",
       "      <td>2011</td>\n",
       "      <td>Casual</td>\n",
       "      <td>Turtle Check Men Navy Blue Shirt</td>\n",
       "      <td>Turtle</td>\n",
       "      <td>15970.jpg</td>\n",
       "      <td>file://images\\15970.jpg</td>\n",
       "      <td>6228.0</td>\n",
       "    </tr>\n",
       "  </tbody>\n",
       "</table>\n",
       "</div>"
      ],
      "text/plain": [
       "      id gender masterCategory subCategory articleType baseColour season  \\\n",
       "0  15970    Men        Apparel     Topwear      Shirts  Navy Blue   Fall   \n",
       "\n",
       "   year   usage                productDisplayName brandname image_filename  \\\n",
       "0  2011  Casual  Turtle Check Men Navy Blue Shirt    Turtle      15970.jpg   \n",
       "\n",
       "                 image_url   price  \n",
       "0  file://images\\15970.jpg  6228.0  "
      ]
     },
     "execution_count": 5,
     "metadata": {},
     "output_type": "execute_result"
    }
   ],
   "source": [
    "fashion.head(1)"
   ]
  },
  {
   "cell_type": "code",
   "execution_count": 6,
   "id": "9b8cc71d-8f03-4df1-a1f7-a6fc5806c970",
   "metadata": {},
   "outputs": [
    {
     "data": {
      "text/plain": [
       "(3180, 14)"
      ]
     },
     "execution_count": 6,
     "metadata": {},
     "output_type": "execute_result"
    }
   ],
   "source": [
    "fashion.shape"
   ]
  },
  {
   "cell_type": "code",
   "execution_count": 7,
   "id": "644a9f07-7b75-4247-92ee-520e975704a4",
   "metadata": {},
   "outputs": [],
   "source": [
    "#id, gender,mastercategory,subcategory,articletype,usage,productdisplayname,price\n",
    "\n",
    "fashion = fashion[['id','gender','masterCategory','subCategory','articleType','usage','productDisplayName']]"
   ]
  },
  {
   "cell_type": "code",
   "execution_count": 8,
   "id": "b41cf20b-5eca-435f-91b8-b46d75689ed1",
   "metadata": {},
   "outputs": [
    {
     "data": {
      "text/html": [
       "<div>\n",
       "<style scoped>\n",
       "    .dataframe tbody tr th:only-of-type {\n",
       "        vertical-align: middle;\n",
       "    }\n",
       "\n",
       "    .dataframe tbody tr th {\n",
       "        vertical-align: top;\n",
       "    }\n",
       "\n",
       "    .dataframe thead th {\n",
       "        text-align: right;\n",
       "    }\n",
       "</style>\n",
       "<table border=\"1\" class=\"dataframe\">\n",
       "  <thead>\n",
       "    <tr style=\"text-align: right;\">\n",
       "      <th></th>\n",
       "      <th>id</th>\n",
       "      <th>gender</th>\n",
       "      <th>masterCategory</th>\n",
       "      <th>subCategory</th>\n",
       "      <th>articleType</th>\n",
       "      <th>usage</th>\n",
       "      <th>productDisplayName</th>\n",
       "    </tr>\n",
       "  </thead>\n",
       "  <tbody>\n",
       "    <tr>\n",
       "      <th>0</th>\n",
       "      <td>15970</td>\n",
       "      <td>Men</td>\n",
       "      <td>Apparel</td>\n",
       "      <td>Topwear</td>\n",
       "      <td>Shirts</td>\n",
       "      <td>Casual</td>\n",
       "      <td>Turtle Check Men Navy Blue Shirt</td>\n",
       "    </tr>\n",
       "    <tr>\n",
       "      <th>1</th>\n",
       "      <td>39386</td>\n",
       "      <td>Men</td>\n",
       "      <td>Apparel</td>\n",
       "      <td>Bottomwear</td>\n",
       "      <td>Jeans</td>\n",
       "      <td>Casual</td>\n",
       "      <td>Peter England Men Party Blue Jeans</td>\n",
       "    </tr>\n",
       "    <tr>\n",
       "      <th>2</th>\n",
       "      <td>59263</td>\n",
       "      <td>Women</td>\n",
       "      <td>Accessories</td>\n",
       "      <td>Watches</td>\n",
       "      <td>Watches</td>\n",
       "      <td>Casual</td>\n",
       "      <td>Titan Women Silver Watch</td>\n",
       "    </tr>\n",
       "    <tr>\n",
       "      <th>3</th>\n",
       "      <td>21379</td>\n",
       "      <td>Men</td>\n",
       "      <td>Apparel</td>\n",
       "      <td>Bottomwear</td>\n",
       "      <td>Track Pants</td>\n",
       "      <td>Casual</td>\n",
       "      <td>Manchester United Men Solid Black Track Pants</td>\n",
       "    </tr>\n",
       "    <tr>\n",
       "      <th>4</th>\n",
       "      <td>53759</td>\n",
       "      <td>Men</td>\n",
       "      <td>Apparel</td>\n",
       "      <td>Topwear</td>\n",
       "      <td>Tshirts</td>\n",
       "      <td>Casual</td>\n",
       "      <td>Puma Men Grey T-shirt</td>\n",
       "    </tr>\n",
       "  </tbody>\n",
       "</table>\n",
       "</div>"
      ],
      "text/plain": [
       "      id gender masterCategory subCategory  articleType   usage  \\\n",
       "0  15970    Men        Apparel     Topwear       Shirts  Casual   \n",
       "1  39386    Men        Apparel  Bottomwear        Jeans  Casual   \n",
       "2  59263  Women    Accessories     Watches      Watches  Casual   \n",
       "3  21379    Men        Apparel  Bottomwear  Track Pants  Casual   \n",
       "4  53759    Men        Apparel     Topwear      Tshirts  Casual   \n",
       "\n",
       "                              productDisplayName  \n",
       "0               Turtle Check Men Navy Blue Shirt  \n",
       "1             Peter England Men Party Blue Jeans  \n",
       "2                       Titan Women Silver Watch  \n",
       "3  Manchester United Men Solid Black Track Pants  \n",
       "4                          Puma Men Grey T-shirt  "
      ]
     },
     "execution_count": 8,
     "metadata": {},
     "output_type": "execute_result"
    }
   ],
   "source": [
    "fashion.head()"
   ]
  },
  {
   "cell_type": "code",
   "execution_count": 9,
   "id": "0088016e-2029-44bf-a4f6-0214d25c1cb0",
   "metadata": {},
   "outputs": [],
   "source": [
    "fashion['tags'] = fashion['gender'] + \" \" + fashion['masterCategory'] + \" \" + fashion['subCategory'] + \" \" + fashion['articleType'] + \" \" + fashion['usage']\n"
   ]
  },
  {
   "cell_type": "code",
   "execution_count": 10,
   "id": "ded28919-ffd3-4fac-b17c-fbcbc12ca78d",
   "metadata": {},
   "outputs": [
    {
     "data": {
      "text/plain": [
       "'Men Apparel Topwear Shirts Casual'"
      ]
     },
     "execution_count": 10,
     "metadata": {},
     "output_type": "execute_result"
    }
   ],
   "source": [
    "fashion['tags'][0]"
   ]
  },
  {
   "cell_type": "code",
   "execution_count": 11,
   "id": "262955a4-14b4-4310-9e35-cc589a729fa7",
   "metadata": {},
   "outputs": [],
   "source": [
    "new_df = fashion[['id','productDisplayName', 'tags']]"
   ]
  },
  {
   "cell_type": "code",
   "execution_count": 12,
   "id": "44890f1c-4216-49f1-a4df-9a2b2336ec9e",
   "metadata": {},
   "outputs": [
    {
     "data": {
      "text/html": [
       "<div>\n",
       "<style scoped>\n",
       "    .dataframe tbody tr th:only-of-type {\n",
       "        vertical-align: middle;\n",
       "    }\n",
       "\n",
       "    .dataframe tbody tr th {\n",
       "        vertical-align: top;\n",
       "    }\n",
       "\n",
       "    .dataframe thead th {\n",
       "        text-align: right;\n",
       "    }\n",
       "</style>\n",
       "<table border=\"1\" class=\"dataframe\">\n",
       "  <thead>\n",
       "    <tr style=\"text-align: right;\">\n",
       "      <th></th>\n",
       "      <th>id</th>\n",
       "      <th>productDisplayName</th>\n",
       "      <th>tags</th>\n",
       "    </tr>\n",
       "  </thead>\n",
       "  <tbody>\n",
       "    <tr>\n",
       "      <th>0</th>\n",
       "      <td>15970</td>\n",
       "      <td>Turtle Check Men Navy Blue Shirt</td>\n",
       "      <td>Men Apparel Topwear Shirts Casual</td>\n",
       "    </tr>\n",
       "    <tr>\n",
       "      <th>1</th>\n",
       "      <td>39386</td>\n",
       "      <td>Peter England Men Party Blue Jeans</td>\n",
       "      <td>Men Apparel Bottomwear Jeans Casual</td>\n",
       "    </tr>\n",
       "    <tr>\n",
       "      <th>2</th>\n",
       "      <td>59263</td>\n",
       "      <td>Titan Women Silver Watch</td>\n",
       "      <td>Women Accessories Watches Watches Casual</td>\n",
       "    </tr>\n",
       "    <tr>\n",
       "      <th>3</th>\n",
       "      <td>21379</td>\n",
       "      <td>Manchester United Men Solid Black Track Pants</td>\n",
       "      <td>Men Apparel Bottomwear Track Pants Casual</td>\n",
       "    </tr>\n",
       "    <tr>\n",
       "      <th>4</th>\n",
       "      <td>53759</td>\n",
       "      <td>Puma Men Grey T-shirt</td>\n",
       "      <td>Men Apparel Topwear Tshirts Casual</td>\n",
       "    </tr>\n",
       "  </tbody>\n",
       "</table>\n",
       "</div>"
      ],
      "text/plain": [
       "      id                             productDisplayName  \\\n",
       "0  15970               Turtle Check Men Navy Blue Shirt   \n",
       "1  39386             Peter England Men Party Blue Jeans   \n",
       "2  59263                       Titan Women Silver Watch   \n",
       "3  21379  Manchester United Men Solid Black Track Pants   \n",
       "4  53759                          Puma Men Grey T-shirt   \n",
       "\n",
       "                                        tags  \n",
       "0          Men Apparel Topwear Shirts Casual  \n",
       "1        Men Apparel Bottomwear Jeans Casual  \n",
       "2   Women Accessories Watches Watches Casual  \n",
       "3  Men Apparel Bottomwear Track Pants Casual  \n",
       "4         Men Apparel Topwear Tshirts Casual  "
      ]
     },
     "execution_count": 12,
     "metadata": {},
     "output_type": "execute_result"
    }
   ],
   "source": [
    "new_df.head()"
   ]
  },
  {
   "cell_type": "code",
   "execution_count": 13,
   "id": "d0a76db6-bb29-4c58-9874-d3f1c5cc849b",
   "metadata": {},
   "outputs": [
    {
     "name": "stderr",
     "output_type": "stream",
     "text": [
      "/tmp/ipykernel_45822/3214958533.py:1: SettingWithCopyWarning: \n",
      "A value is trying to be set on a copy of a slice from a DataFrame.\n",
      "Try using .loc[row_indexer,col_indexer] = value instead\n",
      "\n",
      "See the caveats in the documentation: https://pandas.pydata.org/pandas-docs/stable/user_guide/indexing.html#returning-a-view-versus-a-copy\n",
      "  new_df['tags'] = new_df['tags'].apply(lambda x:x.lower())\n"
     ]
    }
   ],
   "source": [
    "new_df['tags'] = new_df['tags'].apply(lambda x:x.lower())"
   ]
  },
  {
   "cell_type": "code",
   "execution_count": 14,
   "id": "c333c8cb-75db-4f56-b206-63ce77e86de3",
   "metadata": {},
   "outputs": [
    {
     "data": {
      "text/html": [
       "<div>\n",
       "<style scoped>\n",
       "    .dataframe tbody tr th:only-of-type {\n",
       "        vertical-align: middle;\n",
       "    }\n",
       "\n",
       "    .dataframe tbody tr th {\n",
       "        vertical-align: top;\n",
       "    }\n",
       "\n",
       "    .dataframe thead th {\n",
       "        text-align: right;\n",
       "    }\n",
       "</style>\n",
       "<table border=\"1\" class=\"dataframe\">\n",
       "  <thead>\n",
       "    <tr style=\"text-align: right;\">\n",
       "      <th></th>\n",
       "      <th>id</th>\n",
       "      <th>productDisplayName</th>\n",
       "      <th>tags</th>\n",
       "    </tr>\n",
       "  </thead>\n",
       "  <tbody>\n",
       "    <tr>\n",
       "      <th>0</th>\n",
       "      <td>15970</td>\n",
       "      <td>Turtle Check Men Navy Blue Shirt</td>\n",
       "      <td>men apparel topwear shirts casual</td>\n",
       "    </tr>\n",
       "    <tr>\n",
       "      <th>1</th>\n",
       "      <td>39386</td>\n",
       "      <td>Peter England Men Party Blue Jeans</td>\n",
       "      <td>men apparel bottomwear jeans casual</td>\n",
       "    </tr>\n",
       "    <tr>\n",
       "      <th>2</th>\n",
       "      <td>59263</td>\n",
       "      <td>Titan Women Silver Watch</td>\n",
       "      <td>women accessories watches watches casual</td>\n",
       "    </tr>\n",
       "    <tr>\n",
       "      <th>3</th>\n",
       "      <td>21379</td>\n",
       "      <td>Manchester United Men Solid Black Track Pants</td>\n",
       "      <td>men apparel bottomwear track pants casual</td>\n",
       "    </tr>\n",
       "    <tr>\n",
       "      <th>4</th>\n",
       "      <td>53759</td>\n",
       "      <td>Puma Men Grey T-shirt</td>\n",
       "      <td>men apparel topwear tshirts casual</td>\n",
       "    </tr>\n",
       "  </tbody>\n",
       "</table>\n",
       "</div>"
      ],
      "text/plain": [
       "      id                             productDisplayName  \\\n",
       "0  15970               Turtle Check Men Navy Blue Shirt   \n",
       "1  39386             Peter England Men Party Blue Jeans   \n",
       "2  59263                       Titan Women Silver Watch   \n",
       "3  21379  Manchester United Men Solid Black Track Pants   \n",
       "4  53759                          Puma Men Grey T-shirt   \n",
       "\n",
       "                                        tags  \n",
       "0          men apparel topwear shirts casual  \n",
       "1        men apparel bottomwear jeans casual  \n",
       "2   women accessories watches watches casual  \n",
       "3  men apparel bottomwear track pants casual  \n",
       "4         men apparel topwear tshirts casual  "
      ]
     },
     "execution_count": 14,
     "metadata": {},
     "output_type": "execute_result"
    }
   ],
   "source": [
    "new_df.head()"
   ]
  },
  {
   "cell_type": "code",
   "execution_count": 51,
   "id": "62cd17fb-5c79-4e9c-b614-9ae1eb2e7521",
   "metadata": {},
   "outputs": [],
   "source": [
    "from sklearn.feature_extraction.text import CountVectorizer\n",
    "cv = CountVectorizer(max_features=1000,stop_words='english')"
   ]
  },
  {
   "cell_type": "code",
   "execution_count": 52,
   "id": "77b2703f-e74f-4163-a565-987ef8931aea",
   "metadata": {},
   "outputs": [],
   "source": [
    "vector = cv.fit_transform(new_df['tags']).toarray()"
   ]
  },
  {
   "cell_type": "code",
   "execution_count": 53,
   "id": "1e2efd34-aa9f-4ca8-8aaf-d747fe69175e",
   "metadata": {},
   "outputs": [
    {
     "data": {
      "text/plain": [
       "array([0, 0, 1, 0, 0, 0, 0, 0, 0, 0, 0, 0, 0, 0, 0, 0, 0, 0, 0, 1, 0, 0,\n",
       "       0, 0, 0, 0, 0, 0, 0, 0, 0, 0, 0, 0, 0, 0, 0, 0, 0, 0, 0, 0, 0, 0,\n",
       "       0, 0, 0, 0, 0, 0, 0, 0, 0, 0, 0, 0, 0, 0, 0, 0, 0, 0, 0, 0, 0, 0,\n",
       "       0, 0, 0, 0, 0, 0, 0, 0, 0, 0, 0, 1, 0, 0, 0, 0, 0, 0, 0, 0, 0, 0,\n",
       "       0, 0, 0, 0, 0, 0, 0, 0, 0, 0, 0, 0, 0, 0, 0, 0, 0, 1, 0, 0, 0, 0,\n",
       "       0, 0, 0, 0, 0, 0, 0, 0, 0, 0, 0, 0, 0, 0, 0, 0, 1, 0, 0, 0, 0, 0,\n",
       "       0, 0, 0, 0, 0, 0, 0, 0, 0])"
      ]
     },
     "execution_count": 53,
     "metadata": {},
     "output_type": "execute_result"
    }
   ],
   "source": [
    "vector[0]"
   ]
  },
  {
   "cell_type": "code",
   "execution_count": 54,
   "id": "8d476047-d518-4a16-be35-6b7bc8509444",
   "metadata": {},
   "outputs": [
    {
     "data": {
      "text/plain": [
       "array(['accessories', 'accessory', 'apparel', 'backpacks', 'bag', 'bags',\n",
       "       'bath', 'beauty', 'belts', 'blush', 'body', 'bottomwear', 'boys',\n",
       "       'bra', 'bracelet', 'briefs', 'capris', 'caps', 'care', 'casual',\n",
       "       'chains', 'churidar', 'clutches', 'deodorant', 'dress', 'dresses',\n",
       "       'duffel', 'dupatta', 'earrings', 'equipment', 'essentials',\n",
       "       'ethnic', 'eyeliner', 'eyes', 'eyeshadow', 'eyewear', 'flats',\n",
       "       'flip', 'flops', 'footballs', 'footwear', 'formal', 'foundation',\n",
       "       'fragrance', 'free', 'gift', 'gifts', 'girls', 'gloss', 'gloves',\n",
       "       'goods', 'handbags', 'headband', 'headwear', 'heels',\n",
       "       'highlighter', 'innerwear', 'items', 'jackets', 'jeans',\n",
       "       'jeggings', 'jewellery', 'jumpsuit', 'kajal', 'kurta', 'kurtas',\n",
       "       'kurtis', 'laces', 'laptop', 'leggings', 'liner', 'lip', 'lips',\n",
       "       'lipstick', 'lounge', 'loungewear', 'makeup', 'men', 'mist',\n",
       "       'mobile', 'mufflers', 'nail', 'nails', 'necklace', 'nehru',\n",
       "       'night', 'nightdress', 'nightwear', 'pants', 'patiala', 'pendant',\n",
       "       'perfume', 'personal', 'polish', 'pouch', 'primer', 'ring',\n",
       "       'salwar', 'sandal', 'sandals', 'saree', 'sarees', 'scarves', 'set',\n",
       "       'sets', 'shirts', 'shoe', 'shoes', 'shorts', 'shrug', 'skirts',\n",
       "       'smart', 'socks', 'sporting', 'sports', 'stockings', 'stoles',\n",
       "       'suits', 'sunglasses', 'suspenders', 'sweaters', 'sweatshirts',\n",
       "       'swimwear', 'ties', 'tights', 'tops', 'topwear', 'track',\n",
       "       'tracksuits', 'travel', 'trolley', 'trousers', 'trunk', 'tshirts',\n",
       "       'tunics', 'unisex', 'vests', 'wallets', 'watches', 'women',\n",
       "       'wristbands'], dtype=object)"
      ]
     },
     "execution_count": 54,
     "metadata": {},
     "output_type": "execute_result"
    }
   ],
   "source": [
    "cv.get_feature_names_out()"
   ]
  },
  {
   "cell_type": "code",
   "execution_count": 55,
   "id": "0d64d816-4e05-4199-83ed-77b68839af42",
   "metadata": {},
   "outputs": [],
   "source": [
    "from sklearn.metrics.pairwise import cosine_similarity"
   ]
  },
  {
   "cell_type": "code",
   "execution_count": 56,
   "id": "f248082d-895a-4f05-ab14-6fb9790d214a",
   "metadata": {},
   "outputs": [],
   "source": [
    "similarity = cosine_similarity(vector)"
   ]
  },
  {
   "cell_type": "code",
   "execution_count": 74,
   "id": "4d0d2337-9bed-4968-851e-b5d02f5c3e86",
   "metadata": {},
   "outputs": [],
   "source": [
    "def recommendation(id):\n",
    "    index = new_df[new_df['id'] == id].index[0]\n",
    "    dist = similarity[index]\n",
    "\n",
    "    closest = sorted(list(enumerate(similarity[0])),reverse = True,key = lambda x:x[1])[1:6]\n",
    "\n",
    "    for i in closest:\n",
    "        #print(i[0])\n",
    "        print(new_df.iloc[i[0]].productDisplayName)\n",
    "    "
   ]
  },
  {
   "cell_type": "code",
   "execution_count": 75,
   "id": "b453a1ed-f492-4501-a896-46f40e2ff144",
   "metadata": {},
   "outputs": [
    {
     "name": "stdout",
     "output_type": "stream",
     "text": [
      "John Players Men Brown Shirt\n",
      "Gini and Jony Boy's Kaleb White Brown Kidswear\n",
      "Indigo Nation Men Reversible Bling Pink Shirts\n",
      "Turtle Check Men Yellow Shirt\n",
      "Levis Men Check Red Shirts\n"
     ]
    }
   ],
   "source": [
    "recommendation(59263)"
   ]
  },
  {
   "cell_type": "code",
   "execution_count": null,
   "id": "76142834-b248-45b7-836a-bf278c17c7da",
   "metadata": {},
   "outputs": [],
   "source": []
  }
 ],
 "metadata": {
  "kernelspec": {
   "display_name": "Python 3 (ipykernel)",
   "language": "python",
   "name": "python3"
  },
  "language_info": {
   "codemirror_mode": {
    "name": "ipython",
    "version": 3
   },
   "file_extension": ".py",
   "mimetype": "text/x-python",
   "name": "python",
   "nbconvert_exporter": "python",
   "pygments_lexer": "ipython3",
   "version": "3.11.8"
  }
 },
 "nbformat": 4,
 "nbformat_minor": 5
}
