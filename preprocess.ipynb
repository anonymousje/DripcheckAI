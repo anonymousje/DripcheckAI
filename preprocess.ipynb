{
 "cells": [
  {
   "cell_type": "code",
   "execution_count": 3,
   "id": "ddae456f-492d-42d1-b5f6-79dea3bb0344",
   "metadata": {},
   "outputs": [],
   "source": [
    "import csv\n",
    "\n",
    "# Function to convert INR to PKR\n",
    "def inr_to_pkr(price_inr):\n",
    "    conversion_rate = 3.32\n",
    "    return price_inr * conversion_rate\n",
    "\n",
    "# Read CSV file and process data\n",
    "with open('myntra_products_catalog.csv', 'r', newline='', encoding='utf-8') as csvfile:\n",
    "    reader = csv.DictReader(csvfile)\n",
    "    \n",
    "    # Define headers for the new CSV file\n",
    "    headers = ['Item no', 'Brand no', 'Item type', 'Gender', 'Size', 'Price', 'Availability', 'Suggestion Priority', 'Suggestion Category', 'Checked']\n",
    "    \n",
    "    # Write data to a new CSV file\n",
    "    with open('processed_data.csv', 'w', newline='', encoding='utf-8') as outfile:\n",
    "        writer = csv.DictWriter(outfile, fieldnames=headers)\n",
    "        writer.writeheader()\n",
    "        \n",
    "        # Process each row\n",
    "        for row in reader:\n",
    "            # Define data for each row\n",
    "            item_no = row['ProductID']\n",
    "            brand_no = row['ProductBrand']\n",
    "            item_type = row['ProductName']\n",
    "            gender = row['Gender']\n",
    "            size = ''  # Size is not provided in the sample dataset\n",
    "            price_inr = float(row['Price (INR)'])\n",
    "            price_pkr = inr_to_pkr(price_inr)\n",
    "            availability = ''  # Availability is not provided in the sample dataset\n",
    "            suggestion_priority = '1'  # Default priority set to 1\n",
    "            suggestion_category = ''  # Suggestion Category is not provided in the sample dataset\n",
    "            checked = 'No'  # All products marked as unchecked\n",
    "            \n",
    "            # Write data to the new CSV file\n",
    "            writer.writerow({\n",
    "                'Item no': item_no,\n",
    "                'Brand no': brand_no,\n",
    "                'Item type': item_type,\n",
    "                'Gender': gender,\n",
    "                'Size': size,\n",
    "                'Price': price_pkr,\n",
    "                'Availability': availability,\n",
    "                'Suggestion Priority': suggestion_priority,\n",
    "                'Suggestion Category': suggestion_category,\n",
    "                'Checked': checked\n",
    "            })\n"
   ]
  },
  {
   "cell_type": "code",
   "execution_count": null,
   "id": "3071555b-320a-4b54-a394-db094fdedde6",
   "metadata": {},
   "outputs": [],
   "source": []
  }
 ],
 "metadata": {
  "kernelspec": {
   "display_name": "Python 3 (ipykernel)",
   "language": "python",
   "name": "python3"
  },
  "language_info": {
   "codemirror_mode": {
    "name": "ipython",
    "version": 3
   },
   "file_extension": ".py",
   "mimetype": "text/x-python",
   "name": "python",
   "nbconvert_exporter": "python",
   "pygments_lexer": "ipython3",
   "version": "3.12.2"
  }
 },
 "nbformat": 4,
 "nbformat_minor": 5
}
